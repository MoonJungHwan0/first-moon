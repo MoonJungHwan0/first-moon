{
 "cells": [
  {
   "cell_type": "code",
   "execution_count": 2,
   "metadata": {},
   "outputs": [
    {
     "name": "stdout",
     "output_type": "stream",
     "text": [
      "Requirement already satisfied: numpy in c:\\users\\moonj\\anaconda3\\lib\\site-packages (1.19.2)\n"
     ]
    }
   ],
   "source": [
    "!pip install numpy"
   ]
  },
  {
   "cell_type": "code",
   "execution_count": 1,
   "metadata": {},
   "outputs": [],
   "source": [
    "import numpy as np"
   ]
  },
  {
   "cell_type": "code",
   "execution_count": 4,
   "metadata": {},
   "outputs": [
    {
     "data": {
      "text/plain": [
       "array([1, 2, 3, 4, 5])"
      ]
     },
     "execution_count": 4,
     "metadata": {},
     "output_type": "execute_result"
    }
   ],
   "source": [
    "L = [1,2,3,4,5] #1번문제\n",
    "L = np.array(L)\n",
    "L"
   ]
  },
  {
   "cell_type": "code",
   "execution_count": 7,
   "metadata": {},
   "outputs": [
    {
     "data": {
      "text/plain": [
       "array([0., 0., 0., 0., 0., 0., 0., 0., 0., 0.])"
      ]
     },
     "execution_count": 7,
     "metadata": {},
     "output_type": "execute_result"
    }
   ],
   "source": [
    "a = np.zeros(10) #2번 문제\n",
    "a"
   ]
  },
  {
   "cell_type": "code",
   "execution_count": 24,
   "metadata": {},
   "outputs": [
    {
     "data": {
      "text/plain": [
       "array([ 1.1,  2.2,  3.3, -4.4,  5.5], dtype=float32)"
      ]
     },
     "execution_count": 24,
     "metadata": {},
     "output_type": "execute_result"
    }
   ],
   "source": [
    "L=[1.1,2.2,3.3,-4.4,5.5] #3번 문제\n",
    "np.array(L,dtype=np.float32)"
   ]
  },
  {
   "cell_type": "code",
   "execution_count": 31,
   "metadata": {},
   "outputs": [
    {
     "data": {
      "text/plain": [
       "array([   1,    2,    3,    4,    5,    6,    7,    8,    9,   10,   11,\n",
       "         12,   13,   14,   15,   16,   17,   18,   19,   20,   21,   22,\n",
       "         23,   24,   25,   26,   27,   28,   29,   30,   31,   32,   33,\n",
       "         34,   35,   36,   37,   38,   39,   40,   41,   42,   43,   44,\n",
       "         45,   46,   47,   48,   49,   50,   51,   52,   53,   54,   55,\n",
       "         56,   57,   58,   59,   60,   61,   62,   63,   64,   65,   66,\n",
       "         67,   68,   69,   70,   71,   72,   73,   74,   75,   76,   77,\n",
       "         78,   79,   80,   81,   82,   83,   84,   85,   86,   87,   88,\n",
       "         89,   90,   91,   92,   93,   94,   95,   96,   97,   98,   99,\n",
       "        100,  101,  102,  103,  104,  105,  106,  107,  108,  109,  110,\n",
       "        111,  112,  113,  114,  115,  116,  117,  118,  119,  120,  121,\n",
       "        122,  123,  124,  125,  126,  127,  128,  129,  130,  131,  132,\n",
       "        133,  134,  135,  136,  137,  138,  139,  140,  141,  142,  143,\n",
       "        144,  145,  146,  147,  148,  149,  150,  151,  152,  153,  154,\n",
       "        155,  156,  157,  158,  159,  160,  161,  162,  163,  164,  165,\n",
       "        166,  167,  168,  169,  170,  171,  172,  173,  174,  175,  176,\n",
       "        177,  178,  179,  180,  181,  182,  183,  184,  185,  186,  187,\n",
       "        188,  189,  190,  191,  192,  193,  194,  195,  196,  197,  198,\n",
       "        199,  200,  201,  202,  203,  204,  205,  206,  207,  208,  209,\n",
       "        210,  211,  212,  213,  214,  215,  216,  217,  218,  219,  220,\n",
       "        221,  222,  223,  224,  225,  226,  227,  228,  229,  230,  231,\n",
       "        232,  233,  234,  235,  236,  237,  238,  239,  240,  241,  242,\n",
       "        243,  244,  245,  246,  247,  248,  249,  250,  251,  252,  253,\n",
       "        254,  255,  256,  257,  258,  259,  260,  261,  262,  263,  264,\n",
       "        265,  266,  267,  268,  269,  270,  271,  272,  273,  274,  275,\n",
       "        276,  277,  278,  279,  280,  281,  282,  283,  284,  285,  286,\n",
       "        287,  288,  289,  290,  291,  292,  293,  294,  295,  296,  297,\n",
       "        298,  299,  300,  301,  302,  303,  304,  305,  306,  307,  308,\n",
       "        309,  310,  311,  312,  313,  314,  315,  316,  317,  318,  319,\n",
       "        320,  321,  322,  323,  324,  325,  326,  327,  328,  329,  330,\n",
       "        331,  332,  333,  334,  335,  336,  337,  338,  339,  340,  341,\n",
       "        342,  343,  344,  345,  346,  347,  348,  349,  350,  351,  352,\n",
       "        353,  354,  355,  356,  357,  358,  359,  360,  361,  362,  363,\n",
       "        364,  365,  366,  367,  368,  369,  370,  371,  372,  373,  374,\n",
       "        375,  376,  377,  378,  379,  380,  381,  382,  383,  384,  385,\n",
       "        386,  387,  388,  389,  390,  391,  392,  393,  394,  395,  396,\n",
       "        397,  398,  399,  400,  401,  402,  403,  404,  405,  406,  407,\n",
       "        408,  409,  410,  411,  412,  413,  414,  415,  416,  417,  418,\n",
       "        419,  420,  421,  422,  423,  424,  425,  426,  427,  428,  429,\n",
       "        430,  431,  432,  433,  434,  435,  436,  437,  438,  439,  440,\n",
       "        441,  442,  443,  444,  445,  446,  447,  448,  449,  450,  451,\n",
       "        452,  453,  454,  455,  456,  457,  458,  459,  460,  461,  462,\n",
       "        463,  464,  465,  466,  467,  468,  469,  470,  471,  472,  473,\n",
       "        474,  475,  476,  477,  478,  479,  480,  481,  482,  483,  484,\n",
       "        485,  486,  487,  488,  489,  490,  491,  492,  493,  494,  495,\n",
       "        496,  497,  498,  499,  500,  501,  502,  503,  504,  505,  506,\n",
       "        507,  508,  509,  510,  511,  512,  513,  514,  515,  516,  517,\n",
       "        518,  519,  520,  521,  522,  523,  524,  525,  526,  527,  528,\n",
       "        529,  530,  531,  532,  533,  534,  535,  536,  537,  538,  539,\n",
       "        540,  541,  542,  543,  544,  545,  546,  547,  548,  549,  550,\n",
       "        551,  552,  553,  554,  555,  556,  557,  558,  559,  560,  561,\n",
       "        562,  563,  564,  565,  566,  567,  568,  569,  570,  571,  572,\n",
       "        573,  574,  575,  576,  577,  578,  579,  580,  581,  582,  583,\n",
       "        584,  585,  586,  587,  588,  589,  590,  591,  592,  593,  594,\n",
       "        595,  596,  597,  598,  599,  600,  601,  602,  603,  604,  605,\n",
       "        606,  607,  608,  609,  610,  611,  612,  613,  614,  615,  616,\n",
       "        617,  618,  619,  620,  621,  622,  623,  624,  625,  626,  627,\n",
       "        628,  629,  630,  631,  632,  633,  634,  635,  636,  637,  638,\n",
       "        639,  640,  641,  642,  643,  644,  645,  646,  647,  648,  649,\n",
       "        650,  651,  652,  653,  654,  655,  656,  657,  658,  659,  660,\n",
       "        661,  662,  663,  664,  665,  666,  667,  668,  669,  670,  671,\n",
       "        672,  673,  674,  675,  676,  677,  678,  679,  680,  681,  682,\n",
       "        683,  684,  685,  686,  687,  688,  689,  690,  691,  692,  693,\n",
       "        694,  695,  696,  697,  698,  699,  700,  701,  702,  703,  704,\n",
       "        705,  706,  707,  708,  709,  710,  711,  712,  713,  714,  715,\n",
       "        716,  717,  718,  719,  720,  721,  722,  723,  724,  725,  726,\n",
       "        727,  728,  729,  730,  731,  732,  733,  734,  735,  736,  737,\n",
       "        738,  739,  740,  741,  742,  743,  744,  745,  746,  747,  748,\n",
       "        749,  750,  751,  752,  753,  754,  755,  756,  757,  758,  759,\n",
       "        760,  761,  762,  763,  764,  765,  766,  767,  768,  769,  770,\n",
       "        771,  772,  773,  774,  775,  776,  777,  778,  779,  780,  781,\n",
       "        782,  783,  784,  785,  786,  787,  788,  789,  790,  791,  792,\n",
       "        793,  794,  795,  796,  797,  798,  799,  800,  801,  802,  803,\n",
       "        804,  805,  806,  807,  808,  809,  810,  811,  812,  813,  814,\n",
       "        815,  816,  817,  818,  819,  820,  821,  822,  823,  824,  825,\n",
       "        826,  827,  828,  829,  830,  831,  832,  833,  834,  835,  836,\n",
       "        837,  838,  839,  840,  841,  842,  843,  844,  845,  846,  847,\n",
       "        848,  849,  850,  851,  852,  853,  854,  855,  856,  857,  858,\n",
       "        859,  860,  861,  862,  863,  864,  865,  866,  867,  868,  869,\n",
       "        870,  871,  872,  873,  874,  875,  876,  877,  878,  879,  880,\n",
       "        881,  882,  883,  884,  885,  886,  887,  888,  889,  890,  891,\n",
       "        892,  893,  894,  895,  896,  897,  898,  899,  900,  901,  902,\n",
       "        903,  904,  905,  906,  907,  908,  909,  910,  911,  912,  913,\n",
       "        914,  915,  916,  917,  918,  919,  920,  921,  922,  923,  924,\n",
       "        925,  926,  927,  928,  929,  930,  931,  932,  933,  934,  935,\n",
       "        936,  937,  938,  939,  940,  941,  942,  943,  944,  945,  946,\n",
       "        947,  948,  949,  950,  951,  952,  953,  954,  955,  956,  957,\n",
       "        958,  959,  960,  961,  962,  963,  964,  965,  966,  967,  968,\n",
       "        969,  970,  971,  972,  973,  974,  975,  976,  977,  978,  979,\n",
       "        980,  981,  982,  983,  984,  985,  986,  987,  988,  989,  990,\n",
       "        991,  992,  993,  994,  995,  996,  997,  998,  999, 1000])"
      ]
     },
     "execution_count": 31,
     "metadata": {},
     "output_type": "execute_result"
    }
   ],
   "source": [
    "#4번문제\n",
    "a=np.arange(1,1001)\n",
    "a"
   ]
  },
  {
   "cell_type": "code",
   "execution_count": 34,
   "metadata": {},
   "outputs": [
    {
     "data": {
      "text/plain": [
       "array([0. , 0.1, 0.2, 0.3, 0.4, 0.5, 0.6, 0.7, 0.8, 0.9, 1. ])"
      ]
     },
     "execution_count": 34,
     "metadata": {},
     "output_type": "execute_result"
    }
   ],
   "source": [
    "#5번문제\n",
    "a= np.arange(0,1.1,0.1)\n",
    "a"
   ]
  },
  {
   "cell_type": "code",
   "execution_count": 37,
   "metadata": {},
   "outputs": [
    {
     "ename": "SyntaxError",
     "evalue": "invalid syntax (<ipython-input-37-df859ff180a8>, line 1)",
     "output_type": "error",
     "traceback": [
      "\u001b[1;36m  File \u001b[1;32m\"<ipython-input-37-df859ff180a8>\"\u001b[1;36m, line \u001b[1;32m1\u001b[0m\n\u001b[1;33m    numpy array date types\u001b[0m\n\u001b[1;37m          ^\u001b[0m\n\u001b[1;31mSyntaxError\u001b[0m\u001b[1;31m:\u001b[0m invalid syntax\n"
     ]
    }
   ],
   "source": [
    "numpy array date types"
   ]
  },
  {
   "cell_type": "code",
   "execution_count": 61,
   "metadata": {},
   "outputs": [
    {
     "name": "stdout",
     "output_type": "stream",
     "text": [
      "[True, True, True, False] [-2, -1, 0, 1, 2, 3] [2, 1, 0, 1, 2, 3] [(1+2j)] [-1.1, 0, 1.1, 2.2] ['moon', 'jung', 'hwan']\n"
     ]
    }
   ],
   "source": [
    "#6번 문제\n",
    "a =[True,True,True,False] #bool형\n",
    "np.array(a,dtype=np.bool)\n",
    "\n",
    "b=[-2,-1,0,1,2,3] #정수형\n",
    "np.array(b,dtype=np.int16)\n",
    "\n",
    "c=[2,1,0,1,2,3] #부호없는(양수) 정수형\n",
    "np.array(c,dtype=np.uint16)\n",
    "\n",
    "d=[-1.1,0,1.1,2.2] #부동소수형\n",
    "np.array(d,dtype=np.float16)\n",
    "\n",
    "e=[1+2j] #복수수형(실수+허수)\n",
    "np.array(e,dtype=np.complex64)\n",
    "\n",
    "f = ['moon','jung','hwan'] #문자형\n",
    "np.array(f,dtype=np.string_)\n",
    "\n",
    "print(a,b,c,e,d,f)\n",
    "\n",
    "#Reference https://rfriend.tistory.com/285"
   ]
  },
  {
   "cell_type": "code",
   "execution_count": 63,
   "metadata": {},
   "outputs": [],
   "source": [
    "#7번 문제\n",
    "#1. 에러는 생기지 않으나 array 함수의 입력값에 들어가게 되면 사이즈가 큰 문자열로 바뀌게 되며 그렇게 되면 연산처리 속도가 늦어진다\n",
    "#2. 메모리에 빽빽하게 들어차 있기 때문에 메모리를 더 빨리 확보한다. 따라서 전체적으로 Numpy에서 실행되는 작업은 표준 파이썬 목록보다 약 5배에서 100배 더 빠르다."
   ]
  },
  {
   "cell_type": "code",
   "execution_count": 64,
   "metadata": {},
   "outputs": [
    {
     "name": "stdout",
     "output_type": "stream",
     "text": [
      "24\n"
     ]
    }
   ],
   "source": [
    "#8번문제\n",
    "arr=np.array([31,24,37,14,25])\n",
    "print(arr[1])"
   ]
  },
  {
   "cell_type": "code",
   "execution_count": 4,
   "metadata": {},
   "outputs": [
    {
     "name": "stdout",
     "output_type": "stream",
     "text": [
      "[[1 2 3]\n",
      " [4 5 6]\n",
      " [7 8 9]]\n",
      "6\n",
      "6\n"
     ]
    }
   ],
   "source": [
    "#9번 문제\n",
    "arr2 =np.array([[1,2,3],[4,5,6],[7,8,9]])\n",
    "print(arr2)\n",
    "print(arr2[1,2])\n",
    "print(arr2[1][2])"
   ]
  },
  {
   "cell_type": "code",
   "execution_count": 5,
   "metadata": {},
   "outputs": [
    {
     "name": "stdout",
     "output_type": "stream",
     "text": [
      "[[10  9  8]\n",
      " [ 7  6  5]\n",
      " [ 4  3  2]]\n"
     ]
    },
    {
     "data": {
      "text/plain": [
       "(array([[10,  9,  8]]),\n",
       " array([[9],\n",
       "        [6],\n",
       "        [3]]))"
      ]
     },
     "execution_count": 5,
     "metadata": {},
     "output_type": "execute_result"
    }
   ],
   "source": [
    "#10번문제\n",
    "arr2=np.array([[10,9,8],[7,6,5],[4,3,2]])\n",
    "print(arr2)\n",
    "arr2[0:1], arr2[0:3,1:2]"
   ]
  },
  {
   "cell_type": "code",
   "execution_count": 5,
   "metadata": {},
   "outputs": [
    {
     "name": "stdout",
     "output_type": "stream",
     "text": [
      "[[10  9  8]\n",
      " [ 7  6  5]\n",
      " [ 4  3  2]]\n",
      "[10  9  8]\n",
      "[9 6 3]\n"
     ]
    }
   ],
   "source": [
    "#10번 문제의 다른사람의 코드\n",
    "arr2=np.array([[10,9,8],[7,6,5],[4,3,2]])\n",
    "\n",
    "print(arr2)\n",
    "print(arr2[0])\n",
    "print(arr2[:, 1])"
   ]
  },
  {
   "cell_type": "code",
   "execution_count": 15,
   "metadata": {},
   "outputs": [
    {
     "data": {
      "text/plain": [
       "array([  550,   112, 10000])"
      ]
     },
     "execution_count": 15,
     "metadata": {},
     "output_type": "execute_result"
    }
   ],
   "source": [
    "#11번 문제\n",
    "arr=np.array([30,4,550,9,112,10000,15,21])\n",
    "arr2 = arr[arr>30]\n",
    "arr2"
   ]
  },
  {
   "cell_type": "code",
   "execution_count": 20,
   "metadata": {},
   "outputs": [
    {
     "name": "stdout",
     "output_type": "stream",
     "text": [
      "[  550   112 10000]\n"
     ]
    }
   ],
   "source": [
    "#다른 코드\n",
    "a = arr > 30\n",
    "\n",
    "print(arr[a])\n",
    "\n"
   ]
  },
  {
   "cell_type": "code",
   "execution_count": 70,
   "metadata": {},
   "outputs": [
    {
     "name": "stdout",
     "output_type": "stream",
     "text": [
      "min :  -4959\n",
      "max :  517590\n",
      "sum :  514024\n",
      "mean :  57113.77777777778\n"
     ]
    }
   ],
   "source": [
    "#12번 문제\n",
    "arr = np.array([50, 1110, 1, 230, 3, 40, 517590, -41, -4959])\n",
    "\n",
    "print('min : ',arr.min())\n",
    "print('max : ',arr.max())\n",
    "print('sum : ',arr.sum())\n",
    "print('mean : ',arr.mean())"
   ]
  },
  {
   "cell_type": "code",
   "execution_count": 69,
   "metadata": {},
   "outputs": [
    {
     "name": "stdout",
     "output_type": "stream",
     "text": [
      "index of min :  -591\n",
      "index of max :  50491\n"
     ]
    }
   ],
   "source": [
    "#13번 문제\n",
    "arr = np.array([1, 33, 5502, 221, -591, 0, -9, 50491])\n",
    "print(\"index of min : \", arr.min())\n",
    "print(\"index of max : \", arr.max())"
   ]
  },
  {
   "cell_type": "code",
   "execution_count": 47,
   "metadata": {},
   "outputs": [
    {
     "data": {
      "text/plain": [
       "array([1, 2, 3, 4, 5, 6, 7, 8, 9])"
      ]
     },
     "execution_count": 47,
     "metadata": {},
     "output_type": "execute_result"
    }
   ],
   "source": [
    "#14번 문제\n",
    "arr1 =np.array([1,2,3,4,5])\n",
    "arr2 =np.array([6,7,8,9])\n",
    "\n",
    "A=np.hstack((arr1,arr2)) #행을 세는 방향으로 합침\n",
    "A\n",
    "\n",
    "B = np.concatenate((arr1,arr2),axis=0)\n",
    "B"
   ]
  },
  {
   "cell_type": "code",
   "execution_count": 48,
   "metadata": {},
   "outputs": [
    {
     "data": {
      "text/plain": [
       "array([1, 2, 3, 4, 5, 6, 7, 8, 9])"
      ]
     },
     "execution_count": 48,
     "metadata": {},
     "output_type": "execute_result"
    }
   ],
   "source": [
    "A=np.hstack((arr1,arr2)) #행을 세는 방향으로 합침\n",
    "A"
   ]
  },
  {
   "cell_type": "code",
   "execution_count": 51,
   "metadata": {},
   "outputs": [
    {
     "data": {
      "text/plain": [
       "array([1, 2, 3, 4, 5, 6, 7, 8, 9])"
      ]
     },
     "execution_count": 51,
     "metadata": {},
     "output_type": "execute_result"
    }
   ],
   "source": [
    "np.append(arr1,arr2,axis=0) # 또 다른 코드"
   ]
  },
  {
   "cell_type": "code",
   "execution_count": 9,
   "metadata": {},
   "outputs": [
    {
     "name": "stdout",
     "output_type": "stream",
     "text": [
      "[[1 2 3]\n",
      " [4 5 6]\n",
      " [7 8 9]]\n",
      "[1 2 3 4 5 6 7 8 9]\n"
     ]
    }
   ],
   "source": [
    "#15번 문제\n",
    "arr1 = np.array([1, 2, 3])\n",
    "arr2 = np.array([4, 5, 6])\n",
    "arr3 = np.array([7, 8, 9])\n",
    "\n",
    "a = np.concatenate((arr1,arr2,arr3)).reshape(3,3) #reshape 추가\n",
    "a\n",
    "#다른 해결법\n",
    "print(np.vstack((arr1,arr2,arr3)))\n",
    "print(np.hstack((arr1,arr2,arr3)))\n",
    "# 세로로 쌓을땐 vstack\n",
    "# 가로로 쌓을땐 hstack"
   ]
  },
  {
   "cell_type": "code",
   "execution_count": 68,
   "metadata": {},
   "outputs": [
    {
     "name": "stdout",
     "output_type": "stream",
     "text": [
      "[5 1 5]\n",
      "[5 1 5]\n"
     ]
    }
   ],
   "source": [
    "#16번 문제\n",
    "v1 = np.array([1, 2, 3])\n",
    "v2 = np.array([4, -1, 2])\n",
    "v3 = v1 + v2\n",
    "print(v3)\n",
    "print(v1 + v2)"
   ]
  },
  {
   "cell_type": "code",
   "execution_count": 11,
   "metadata": {},
   "outputs": [
    {
     "name": "stdout",
     "output_type": "stream",
     "text": [
      "8\n"
     ]
    }
   ],
   "source": [
    "#17문제\n",
    "v1 = np.array([1, 2, 3])\n",
    "v2 = np.array([4, -1, 2])\n",
    "v3=np.dot(v1,v2)\n",
    "v3\n",
    "print(np.dot(v1,v2))"
   ]
  },
  {
   "cell_type": "code",
   "execution_count": 74,
   "metadata": {},
   "outputs": [
    {
     "name": "stdout",
     "output_type": "stream",
     "text": [
      "8\n"
     ]
    }
   ],
   "source": [
    "#다른 코드\n",
    "#dot을 안쓰고 하면\n",
    "\n",
    "c = v1 * v2\n",
    "\n",
    "c = c.reshape(3, 1)\n",
    "\n",
    "c = np.sum(c)\n",
    "\n",
    "print(c)"
   ]
  },
  {
   "cell_type": "code",
   "execution_count": 80,
   "metadata": {},
   "outputs": [
    {
     "data": {
      "text/plain": [
       "array([4, 5, 6])"
      ]
     },
     "execution_count": 80,
     "metadata": {},
     "output_type": "execute_result"
    }
   ],
   "source": [
    "#18문제\n",
    "arr1 = np.array([1, 2, 3])\n",
    "\n",
    "arr1=arr1+3\n",
    "arr1"
   ]
  },
  {
   "cell_type": "code",
   "execution_count": 82,
   "metadata": {},
   "outputs": [
    {
     "name": "stdout",
     "output_type": "stream",
     "text": [
      "[4 5 6]\n"
     ]
    }
   ],
   "source": [
    "arr=np.array([1,2,3])\n",
    "print(arr+3)"
   ]
  },
  {
   "cell_type": "code",
   "execution_count": 83,
   "metadata": {},
   "outputs": [
    {
     "name": "stdout",
     "output_type": "stream",
     "text": [
      "[[0 0 0]\n",
      " [3 3 3]\n",
      " [6 6 6]]\n"
     ]
    }
   ],
   "source": [
    "#19문제\n",
    "mat1 = np.array([[1, 2, 3], [4, 5, 6], [7, 8, 9]])\n",
    "v1 = np.array([-1, -2, -3])\n",
    "print(mat1+v1)"
   ]
  },
  {
   "cell_type": "code",
   "execution_count": 109,
   "metadata": {},
   "outputs": [
    {
     "name": "stdout",
     "output_type": "stream",
     "text": [
      "[0.31101942 0.63039056 0.60424169 0.57657825 0.12475008 0.43597193\n",
      " 0.31173888 0.63204118 0.07810844 0.09803677 0.53741678 0.26045642\n",
      " 0.18233017 0.68877027 0.40746829 0.10617403 0.31913773 0.16117424\n",
      " 0.26532348 0.3474915  0.08358119 0.94531767 0.92397684 0.65396907\n",
      " 0.67616439]\n",
      "[0.31101942 0.63039056 0.60424169 0.57657825 0.12475008 0.43597193\n",
      " 0.31173888 0.63204118 0.07810844 0.09803677 0.53741678 0.26045642\n",
      " 0.18233017 0.68877027 0.40746829 0.10617403 0.31913773 0.16117424\n",
      " 0.26532348 0.3474915  0.08358119 0.94531767 0.92397684 0.65396907\n",
      " 0.67616439]\n",
      "[[0.31101942 0.63039056 0.60424169 0.57657825 0.12475008 0.43597193\n",
      "  0.31173888 0.63204118 0.07810844 0.09803677 0.53741678 0.26045642\n",
      "  0.18233017 0.68877027 0.40746829 0.10617403 0.31913773 0.16117424\n",
      "  0.26532348 0.3474915  0.08358119 0.94531767 0.92397684 0.65396907\n",
      "  0.67616439]]\n"
     ]
    }
   ],
   "source": [
    "#20문제\n",
    "img = np.random.random((5, 5))\n",
    "print(img.reshape(25,))\n",
    "print(img.reshape(-1))\n",
    "print(img.reshape(1,25))"
   ]
  },
  {
   "cell_type": "code",
   "execution_count": 113,
   "metadata": {},
   "outputs": [
    {
     "name": "stdout",
     "output_type": "stream",
     "text": [
      "N? : 3\n",
      "[0.33730322 0.10772447 0.79283577 0.44666047 0.48151685 0.5904178\n",
      " 0.90083686 0.7281115  0.22295683 0.17966165 0.37262742 0.23178952\n",
      " 0.66933911 0.59220138 0.53123904 0.43026078 0.47433508 0.72091435]\n"
     ]
    }
   ],
   "source": [
    "#21번문제\n",
    "N = int(input(\"N? : \")) # 사용자 입력으로 받은 자연수 N\n",
    "data = np.random.random((N, 6)) # N x 6 matrix\n",
    "print(data.reshape(-1))\n",
    "\n",
    "# reprence : https://rfriend.tistory.com/345\n"
   ]
  },
  {
   "cell_type": "code",
   "execution_count": 114,
   "metadata": {},
   "outputs": [
    {
     "name": "stdout",
     "output_type": "stream",
     "text": [
      "N? : 3\n"
     ]
    },
    {
     "data": {
      "text/plain": [
       "array([0.42675268, 0.09597802, 0.32701546, 0.4954503 , 0.80394861,\n",
       "       0.0739954 , 0.45037008, 0.80288584, 0.28942125, 0.29182251,\n",
       "       0.82426729, 0.44772562, 0.49835683, 0.35389569, 0.64682135,\n",
       "       0.43227673, 0.54884108, 0.39755522])"
      ]
     },
     "execution_count": 114,
     "metadata": {},
     "output_type": "execute_result"
    }
   ],
   "source": [
    "#또 다른 코드\n",
    "N = int(input(\"N? : \")) # 사용자 입력으로 받은 자연수 N\n",
    "data = np.random.random((N, 6)) # N x 6 matrix\n",
    "data.flatten()"
   ]
  },
  {
   "cell_type": "code",
   "execution_count": 121,
   "metadata": {},
   "outputs": [
    {
     "name": "stdout",
     "output_type": "stream",
     "text": [
      "-0.5440211108893698\n",
      "-0.8390715290764524\n",
      "0.6483608274590866\n",
      "sin(10) -0.5440211108893698\n",
      "cos(10) -0.8390715290764524\n",
      "tan(10) 0.6483608274590866\n"
     ]
    }
   ],
   "source": [
    "#22번문제\n",
    "# x = int(input(\"Number? : \"))\n",
    "x = 10\n",
    "print(np.sin(x))\n",
    "print(np.cos(x))\n",
    "print(np.tan(x))\n",
    "\n",
    "#다른코드\n",
    "s, c, t = np.sin(x), np.cos(x), np.tan(x)\n",
    "\n",
    "print('sin(10)', s)\n",
    "\n",
    "print('cos(10)', c)\n",
    "\n",
    "print('tan(10)', t)\n",
    "\n",
    "\n",
    "\n",
    "\n",
    "\n",
    "\n",
    "\n",
    "\n",
    "\n",
    "\n",
    "\n",
    "#삼각함수 (trigonometric functions) : np.sin(), np.cos(), np.tan()\n",
    "\n",
    "#출처: https://rfriend.tistory.com/296 [R, Python 분석과 프로그래밍의 친구 (by R Friend)]\n",
    "        "
   ]
  },
  {
   "cell_type": "code",
   "execution_count": 128,
   "metadata": {},
   "outputs": [
    {
     "name": "stdout",
     "output_type": "stream",
     "text": [
      "abs(3.14) : 3.14\n",
      "sqrt(3.14) : 1.772004514666935\n",
      "square(3.14) : 9.8596\n"
     ]
    }
   ],
   "source": [
    "#23번 문제\n",
    "x = 3.14\n",
    "print('abs(3.14) :',np.abs(x)) # 절대값\n",
    "print('sqrt(3.14) :',np.sqrt(x)) # 제곱근\n",
    "print('square(3.14) :',np.square(x)) # 제곱"
   ]
  },
  {
   "cell_type": "code",
   "execution_count": 131,
   "metadata": {},
   "outputs": [
    {
     "name": "stdout",
     "output_type": "stream",
     "text": [
      "exp(3.14): 23.103866858722185\n",
      "log(3.14): 1.144222799920162\n"
     ]
    }
   ],
   "source": [
    "#24번 문제\n",
    "x = 3.14\n",
    "print('exp(3.14):',np.exp(x)) # 자연상수 e인 지수함수\n",
    "print('log(3.14):',np.log(x)) # 로그"
   ]
  },
  {
   "cell_type": "code",
   "execution_count": 132,
   "metadata": {},
   "outputs": [
    {
     "name": "stdout",
     "output_type": "stream",
     "text": [
      "[-1.935124e+03 -1.009000e+03 -5.750000e+02 -5.000000e+00  1.000000e+00\n",
      "  3.400000e+00  5.541000e+01  2.245000e+03]\n"
     ]
    }
   ],
   "source": [
    "#25번 문제\n",
    "arr = np.array([1, -5, 3.4, 55.41, -1009, 2245, -575, -1935.124])\n",
    "print(np.sort(arr)) # 오름차순 정렬"
   ]
  },
  {
   "cell_type": "code",
   "execution_count": 136,
   "metadata": {},
   "outputs": [
    {
     "name": "stdout",
     "output_type": "stream",
     "text": [
      "[7 4 6 1 0 2 3 5]\n"
     ]
    }
   ],
   "source": [
    "#26번 문제\n",
    "arr = np.array([1, -5, 3.4, 55.41, -1009, 2245, -575, -1935.124])\n",
    "\n",
    "print(np.argsort(arr))\n",
    "#argsort() 를 이용해 반환된 인덱스를 팬시 인덱스로 적용하면 추출이 가능하다"
   ]
  },
  {
   "cell_type": "code",
   "execution_count": 138,
   "metadata": {},
   "outputs": [
    {
     "name": "stdout",
     "output_type": "stream",
     "text": [
      "[[-1  1  3]\n",
      " [-6  3  4]\n",
      " [ 0  9 11]]\n"
     ]
    }
   ],
   "source": [
    "#27번 문제\n",
    "mat = np.array([[1, -1, 3],\n",
    "               [4, 3, -6],\n",
    "               [0, 11, 9]])\n",
    "print(np.sort(mat))"
   ]
  },
  {
   "cell_type": "code",
   "execution_count": 142,
   "metadata": {},
   "outputs": [
    {
     "name": "stdout",
     "output_type": "stream",
     "text": [
      "[[ 0 -1 -6]\n",
      " [ 1  3  3]\n",
      " [ 4 11  9]]\n",
      "[[-1  1  3]\n",
      " [-6  3  4]\n",
      " [ 0  9 11]]\n"
     ]
    }
   ],
   "source": [
    "#다른 코드\n",
    "mat = np.array([[1, -1, 3],\n",
    "               [4, 3, -6],\n",
    "               [0, 11, 9]])\n",
    "\n",
    "print(np.sort(mat, axis=0)) # axis로 값이 달라진다.\n",
    "print(np.sort(mat, axis=1))"
   ]
  },
  {
   "cell_type": "code",
   "execution_count": 147,
   "metadata": {},
   "outputs": [
    {
     "name": "stdout",
     "output_type": "stream",
     "text": [
      "[[ 4 11  9]\n",
      " [ 1  3  3]\n",
      " [ 0 -1 -6]]\n",
      "[[ 0  9 11]\n",
      " [-6  3  4]\n",
      " [-1  1  3]]\n"
     ]
    }
   ],
   "source": [
    "#28번 문제\n",
    "mat = np.array([[1, -1, 3],\n",
    "               [4, 3, -6],\n",
    "               [0, 11, 9]])\n",
    "print(np.sort(mat,axis=0)[::-1]) #열별로 내림차순\n",
    "print(np.sort(mat,axis=1)[::-1]) #행별로 내림차순"
   ]
  },
  {
   "cell_type": "code",
   "execution_count": null,
   "metadata": {},
   "outputs": [],
   "source": []
  }
 ],
 "metadata": {
  "kernelspec": {
   "display_name": "Python 3",
   "language": "python",
   "name": "python3"
  },
  "language_info": {
   "codemirror_mode": {
    "name": "ipython",
    "version": 3
   },
   "file_extension": ".py",
   "mimetype": "text/x-python",
   "name": "python",
   "nbconvert_exporter": "python",
   "pygments_lexer": "ipython3",
   "version": "3.8.5"
  }
 },
 "nbformat": 4,
 "nbformat_minor": 4
}
